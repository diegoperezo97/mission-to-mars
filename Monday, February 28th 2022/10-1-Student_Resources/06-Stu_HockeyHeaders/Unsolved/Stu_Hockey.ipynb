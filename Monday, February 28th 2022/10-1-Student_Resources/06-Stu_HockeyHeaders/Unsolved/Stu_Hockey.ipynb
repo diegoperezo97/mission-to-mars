{
 "cells": [
  {
   "cell_type": "code",
   "execution_count": 1,
   "metadata": {},
   "outputs": [],
   "source": [
    "# Dependencies\n",
    "from bs4 import BeautifulSoup\n",
    "import requests\n",
    "import pymongo"
   ]
  },
  {
   "cell_type": "code",
   "execution_count": 2,
   "metadata": {},
   "outputs": [],
   "source": [
    "# Initialize PyMongo to work with MongoDBs\n",
    "conn = \"mongodb://localhost:27017\"\n",
    "client = pymongo.MongoClient(conn)"
   ]
  },
  {
   "cell_type": "code",
   "execution_count": 3,
   "metadata": {},
   "outputs": [],
   "source": [
    "# Define database and collection\n",
    "db = client.nhl_ex_db\n",
    "collection = db.articles"
   ]
  },
  {
   "cell_type": "code",
   "execution_count": 4,
   "metadata": {},
   "outputs": [],
   "source": [
    "# URL of page to be scraped\n",
    "url = 'https://www.nhl.com/news'"
   ]
  },
  {
   "cell_type": "code",
   "execution_count": 5,
   "metadata": {},
   "outputs": [],
   "source": [
    "# Retrieve page with the requests module\n",
    "response = requests.get(url)"
   ]
  },
  {
   "cell_type": "code",
   "execution_count": 7,
   "metadata": {},
   "outputs": [],
   "source": [
    "# Create BeautifulSoup object; parse with 'html.parser'\n",
    "soup = BeautifulSoup(response.text, \"html.parser\")"
   ]
  },
  {
   "cell_type": "code",
   "execution_count": 9,
   "metadata": {},
   "outputs": [
    {
     "name": "stdout",
     "output_type": "stream",
     "text": [
      "-----------------\n",
      "Draisaitl reaches 50 goals, 100 points in Oilers win against Ducks\n",
      "McDavid scores three points to push streak to 13 in Edmonton's fourth straight win\n",
      "2022-04-03T22:55:47-0400\n",
      "-----------------\n",
      "Panthers become first to clinch playoff berth with win against Sabres\n",
      "Huberdeau sets single-season record for most points in Florida history\n",
      "2022-04-03T17:28:23-0400\n",
      "-----------------\n",
      "Rangers rally, gain in Metropolitan Division with shootout loss to Flyers\n",
      "New York ties it with two goals in 12 seconds; Jones makes 43 saves\n",
      "2022-04-03T23:25:50-0400\n",
      "-----------------\n",
      "Golden Knights defeat Canucks in OT, retake second wild card in West\n",
      "Theodore wins it at 2:05, Lehner makes 26 saves in return from injury for Vegas\n",
      "2022-04-03T23:22:57-0400\n",
      "-----------------\n",
      "Eriksson Ek helps Wild defeat Capitals, gain in Central Division\n",
      "Forward has two goals, assist for Minnesota, which extends point streak to 10\n",
      "2022-04-03T23:55:04-0400\n",
      "-----------------\n",
      "Panthers ride potent offense to clinch playoff berth\n",
      "Huberdeau's team record in points, Duclair's emergence among reasons why Florida first into postseason\n",
      "2022-04-03T16:54:08-0400\n",
      "-----------------\n",
      "Schneider gets first NHL win since 2020 for Islanders against Devils\n",
      "Makes 27 saves, Pageau has hat trick, assist for New York; Hughes injured for New Jersey\n",
      "2022-04-03T21:05:59-0400\n",
      "-----------------\n",
      "Stars defeated by Kraken, lose ground in wild card race\n",
      "McCann scores shorthanded, Driedger makes 29 saves for Seattle\n",
      "2022-04-03T23:55:31-0400\n",
      "-----------------\n",
      "Gostisbehere, Coyotes defeat Blackhawks in OT\n",
      "Scores on power play with 15 seconds left; Chicago has lost five straight\n",
      "2022-04-03T23:22:37-0400\n",
      "-----------------\n",
      "Fantasy hockey top 10 waiver wire pickups\n",
      "Lundell, DeBrusk, Joseph among most valuable players to add for Week 24; podcast\n",
      "2022-04-03T21:00:00-0400\n",
      "-----------------\n",
      "BriseBois talks Lightning chance for three-peat in sit-down with NHL.com\n",
      "Tampa Bay GM says acquisitions of Hagel, Paul 'make our group better'\n",
      "2022-04-03T09:39:09-0400\n",
      "-----------------\n",
      "Norris gets first NHL hat trick, Senators defeat Red Wings\n",
      "Joseph has three assists; Larkin scores for Detroit\n",
      "2022-04-03T18:08:00-0400\n",
      "-----------------\n",
      "Rookie Watch: Bunting, Seider among best in Atlantic Division\n",
      "Maple Leafs forward leading in points, Red Wings defenseman top in average ice time\n",
      "2022-04-04T00:00:00-0400\n",
      "-----------------\n",
      "Five questions entering NHL Central Scouting final meetings\n",
      "Wright living up to billing as projected No. 1 pick in 2022 Draft; Cooley, Savoie could be debated for No. 2 in rankings\n",
      "2022-04-04T00:00:00-0400\n",
      "-----------------\n",
      "NHL DFS player picks, projections\n",
      "Daily fantasy strategies, advice for upcoming contests; podcast analysis\n",
      "2022-04-04T00:00:00-0400\n",
      "-----------------\n",
      "'Savour Every Moment': Cournoyer recalls first NHL goal with Canadiens\n",
      "Second of eight-part series looks back at start of forward's Hall of Fame career\n",
      "2022-04-04T00:00:00-0400\n",
      "-----------------\n",
      "Color of Hockey: Mauldin attempting comeback in Norway at age 39\n",
      "Retired NHL forward had 'the itch' to return while coaching USNTDP\n",
      "2022-04-04T00:00:39-0400\n",
      "-----------------\n",
      "Blackhawks have lavish celebration for Toews' 1,000th NHL game\n",
      "Former teammates, special jerseys and full museum all on display Sunday\n",
      "2022-04-03T22:28:35-0400\n",
      "-----------------\n",
      "Monahan out for season for Flames, needs surgery on right hip\n",
      "Forward scored 23 points in 65 games, expected to be ready for training camp\n",
      "2022-04-03T00:46:22-0400\n",
      "-----------------\n",
      "Fantasy hockey top 25 line rankings\n",
      "NHL.com lists best units in terms of past chemistry, rest-of-season upside\n",
      "2022-04-02T12:00:00-0400\n",
      "-----------------\n",
      "Zegras scores another Michigan goal, social media calls for a rebrand\n",
      "Ducks forward executes move again, this time around a teammate\n",
      "2022-04-02T09:26:27-0400\n",
      "-----------------\n",
      "O'Ree sees Bruins retired number banner, hosts skills weekend in Boston\n",
      "First NHL Black player visited city to help with Hockey is for Everyone programs\n",
      "2022-04-03T11:22:53-0400\n",
      "-----------------\n",
      "Senators honor Melnyk with tribute video, moment of silence\n",
      "Team also wears patches on uniforms after death of owner last week\n",
      "2022-04-03T15:25:56-0400\n",
      "-----------------\n",
      "Foligno honored by Bruins, Blue Jackets for reaching 1,000 NHL games\n",
      "Current, former team step up in big way to applaud forward for milestone\n",
      "2022-04-03T01:17:56-0400\n",
      "-----------------\n",
      "Yandle's NHL-record consecutive games played streak ends at 989\n",
      "Flyers defenseman healthy scratch against Maple Leafs, last missed regular-season game in 2009\n",
      "2022-04-02T21:58:34-0400\n",
      "-----------------\n",
      "Sabres players give stick taps to Jeanneret, escort him out on ice\n",
      "Uniform patches, tribute video, custom decorations all part of the celebration\n",
      "2022-04-02T01:27:07-0400\n",
      "-----------------\n",
      "Gascon becomes first woman to win QMJHL game in 22 years\n",
      "Teammates celebrate, douse her with water after milestone victory\n",
      "2022-04-02T19:18:10-0400\n",
      "-----------------\n",
      "Daneyko, Devils players kick off Nickelodeon Weekend at Prudential Center\n",
      "NHL Network analyst gets slimed, team holds slime-themed events\n",
      "2022-04-02T14:20:00-0400\n",
      "-----------------\n",
      "Avalanche trade Bernie to Blue Jackets for Stinger\n",
      "Blockbuster mascot trade shakes up NHL\n",
      "2022-04-01T13:52:50-0400\n",
      "-----------------\n",
      "NHL, The Assist partner to give sensory kits to fans with autism\n",
      "Capitals, Flames, Canucks among teams involved in initiative\n",
      "2022-04-01T00:00:00-0400\n"
     ]
    }
   ],
   "source": [
    "# Retrieve the parent divs for all articles\n",
    "results = soup.find_all(\"div\", class_=\"article-item__top\")\n",
    "# loop over results to get article data\n",
    "for result in results:\n",
    "    try: \n",
    "        # scrape the article header \n",
    "        header = result.find('h1', class_='article-item__headline').text\n",
    "\n",
    "        # scrape the article subheader\n",
    "        subheader = result.find('h2', class_='article-item__subheader').text\n",
    "\n",
    "        # scrape the datetime\n",
    "        date = result.find('span', class_='article-item__date')[\"data-date\"]\n",
    "\n",
    "\n",
    "        # get only the date from the datetime\n",
    "\n",
    "        # print article data\n",
    "        print('-----------------')\n",
    "        print(header)\n",
    "        print(subheader)\n",
    "        print(date)\n",
    "\n",
    "        # Dictionary to be inserted into MongoDB\n",
    "        post = {\n",
    "            \"header\": header,\n",
    "            \"subheader\": subheader,\n",
    "            \"date\": date\n",
    "        }\n",
    "\n",
    "        # Insert dictionary into MongoDB as a document\n",
    "        collection.insert_one(post)\n",
    "    except AttributeError as e:\n",
    "        print(e)"
   ]
  },
  {
   "cell_type": "code",
   "execution_count": null,
   "metadata": {},
   "outputs": [],
   "source": [
    "# Display the MongoDB records created above\n",
    "articles = db.articles.find()\n",
    "for article in articles:\n",
    "    print(article)"
   ]
  }
 ],
 "metadata": {
  "kernelspec": {
   "display_name": "Python 3",
   "language": "python",
   "name": "python3"
  },
  "language_info": {
   "codemirror_mode": {
    "name": "ipython",
    "version": 3
   },
   "file_extension": ".py",
   "mimetype": "text/x-python",
   "name": "python",
   "nbconvert_exporter": "python",
   "pygments_lexer": "ipython3",
   "version": "3.9.7"
  },
  "varInspector": {
   "cols": {
    "lenName": 16,
    "lenType": 16,
    "lenVar": 40
   },
   "kernels_config": {
    "python": {
     "delete_cmd_postfix": "",
     "delete_cmd_prefix": "del ",
     "library": "var_list.py",
     "varRefreshCmd": "print(var_dic_list())"
    },
    "r": {
     "delete_cmd_postfix": ") ",
     "delete_cmd_prefix": "rm(",
     "library": "var_list.r",
     "varRefreshCmd": "cat(var_dic_list()) "
    }
   },
   "types_to_exclude": [
    "module",
    "function",
    "builtin_function_or_method",
    "instance",
    "_Feature"
   ],
   "window_display": false
  }
 },
 "nbformat": 4,
 "nbformat_minor": 2
}
